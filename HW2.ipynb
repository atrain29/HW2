{
 "cells": [
  {
   "cell_type": "markdown",
   "metadata": {},
   "source": [
    "# Import Data"
   ]
  },
  {
   "cell_type": "code",
   "execution_count": null,
   "metadata": {},
   "outputs": [],
   "source": [
    "import pandas as pd\n",
    "import numpy as np\n",
    "import matplotlib.pyplot as plt"
   ]
  },
  {
   "cell_type": "markdown",
   "metadata": {},
   "source": [
    "Pandas used to import dataset, additional libraries are added for use later in code."
   ]
  },
  {
   "cell_type": "code",
   "execution_count": null,
   "metadata": {},
   "outputs": [],
   "source": [
    "df = pd.read_csv('data.csv')"
   ]
  },
  {
   "cell_type": "code",
   "execution_count": null,
   "metadata": {},
   "outputs": [],
   "source": [
    "df"
   ]
  },
  {
   "cell_type": "markdown",
   "metadata": {},
   "source": [
    "Display data table"
   ]
  },
  {
   "cell_type": "markdown",
   "metadata": {},
   "source": [
    "# Split Dataset"
   ]
  },
  {
   "cell_type": "code",
   "execution_count": null,
   "metadata": {},
   "outputs": [],
   "source": [
    "x = df.loc[:,'MDVP:Fo(Hz)':'PPE'].values\n",
    "y = df.loc[:,'status'].values"
   ]
  },
  {
   "cell_type": "code",
   "execution_count": null,
   "metadata": {},
   "outputs": [],
   "source": [
    "from sklearn.model_selection import train_test_split\n",
    "x_train, x_test, y_train, y_test = \\\n",
    "    train_test_split(x,y,\n",
    "                        test_size = 0.2,\n",
    "                        stratify = y,\n",
    "                        random_state = 6000)"
   ]
  },
  {
   "cell_type": "markdown",
   "metadata": {},
   "source": [
    "Splitting the data for training a knn classifier in a holdout + cross-validation fashion. Split data is used to establish graphs plotted later in code."
   ]
  },
  {
   "cell_type": "code",
   "execution_count": null,
   "metadata": {},
   "outputs": [],
   "source": [
    "from sklearn.preprocessing import StandardScaler\n",
    "from sklearn.decomposition import PCA\n",
    "from sklearn.neighbors import KNeighborsClassifier\n",
    "from sklearn.pipeline import make_pipeline"
   ]
  },
  {
   "cell_type": "code",
   "execution_count": null,
   "metadata": {},
   "outputs": [],
   "source": [
    "pipe_K = make_pipeline(StandardScaler(),PCA(n_components=2),KNeighborsClassifier())"
   ]
  },
  {
   "cell_type": "code",
   "execution_count": null,
   "metadata": {},
   "outputs": [],
   "source": [
    "pipe_K.fit(x_train, y_train)\n",
    "y_predict = pipe_K.predict(x_test)\n",
    "print('TEST ACCURACY: %.3f'% pipe_K.score(x_test,y_test))"
   ]
  },
  {
   "cell_type": "markdown",
   "metadata": {},
   "source": [
    "Find the test accuracy using the \"make_pipeline\" function to establish pipe_K."
   ]
  },
  {
   "cell_type": "code",
   "execution_count": null,
   "metadata": {},
   "outputs": [],
   "source": [
    "from sklearn.grid_search import GridSearchCV\n",
    "\n",
    "k = [4,5,6,7,8,9,10]\n",
    "param_grid = [{'kneighborsclassifier__n_neighbors': k}]\n",
    "\n",
    "grids = GridSearchCV(estimator=pipe_K, param_grid=param_grid, scoring='accuracy', cv = 5)\n",
    "\n",
    "grids = grids.fit(x_train, y_train)\n",
    "print(grids.best_score_)\n",
    "print(grids.best_params_)"
   ]
  },
  {
   "cell_type": "markdown",
   "metadata": {},
   "source": [
    "Imput k values into the k-nearest neighbors classifier. Then, using Grid Search, identify the optimal k."
   ]
  },
  {
   "cell_type": "code",
   "execution_count": null,
   "metadata": {},
   "outputs": [],
   "source": [
    "from sklearn.model_selection import learning_curve\n",
    "train_sizes, train_scores, test_scores = \\\n",
    "                learning_curve(estimator = pipe_K,\n",
    "                              X = x_train,\n",
    "                              y = y_train,\n",
    "                              train_sizes=np.linspace(0.1, 1.0, 10),\n",
    "                              cv = 5, n_jobs=1)\n",
    "\n",
    "train_mean = np.mean(train_scores, axis = 1)\n",
    "train_std = np.std(train_scores, axis = 1)\n",
    "test_mean = np.mean(test_scores, axis = 1)\n",
    "test_std = np.std(test_scores, axis = 1)\n",
    "\n",
    "plt.plot(train_sizes, train_mean,\n",
    "        color = 'blue', marker = 'o',\n",
    "        markersize = 5, label = 'Training Accuracy')\n",
    "\n",
    "plt.fill_between(train_sizes,\n",
    "                train_mean + train_std,\n",
    "                train_mean - train_std,\n",
    "                alpha = 0.15, color = 'blue')\n",
    "\n",
    "plt.plot(train_sizes, test_mean,\n",
    "         color = 'green', linestyle = '--',\n",
    "         marker = 's', markersize = 5,\n",
    "         label = 'Validation Accuracy')\n",
    "\n",
    "plt.fill_between(train_sizes,\n",
    "                test_mean + test_std,\n",
    "                test_mean - test_std,\n",
    "                alpha = 0.15, color = 'green')\n",
    "\n",
    "plt.grid()\n",
    "plt.xlabel('Number of Training Samples')\n",
    "plt.ylabel('Accuracy')\n",
    "plt.legend(loc = 'lower right')\n",
    "plt.ylim([0.75, .95])\n",
    "plt.tight_layout()\n",
    "plt.show()"
   ]
  },
  {
   "cell_type": "markdown",
   "metadata": {},
   "source": [
    "The code above is the graph setup for the learning curve using matplotlib. Train data and test data are separated into 2 separate colors and marker types. Then, the \"fill-between\" function is used to connect data points, with a dotted connector for the validation accuracy. I limited the y scale in order to show all data points without including extra space."
   ]
  },
  {
   "cell_type": "code",
   "execution_count": null,
   "metadata": {},
   "outputs": [],
   "source": [
    "from sklearn.model_selection import validation_curve\n",
    "\n",
    "train_scores, test_scores = validation_curve(\n",
    "                estimator = pipe_K,\n",
    "                X = x_train,\n",
    "                y = y_train,\n",
    "                param_name = 'kneighborsclassifier__n_neighbors',\n",
    "                param_range = k,\n",
    "                cv = 5)\n",
    "\n",
    "train_mean = np.mean(train_scores, axis = 1)\n",
    "train_std = np.std(train_scores, axis = 1)\n",
    "test_mean = np.mean(test_scores, axis = 1)\n",
    "test_std = np.std(test_scores, axis = 1)\n",
    "\n",
    "plt.plot(k, train_mean,\n",
    "        color = 'blue', marker = 'o',\n",
    "        markersize = 5, label = 'Training Accuracy')\n",
    "\n",
    "plt.fill_between(k,\n",
    "                train_mean + train_std,\n",
    "                train_mean - train_std,\n",
    "                alpha = 0.15, color = 'blue')\n",
    "\n",
    "plt.plot(k, test_mean,\n",
    "         color = 'green', linestyle = '--',\n",
    "         marker = 's', markersize = 5,\n",
    "         label = 'Validation Accuracy')\n",
    "\n",
    "plt.fill_between(k,\n",
    "                test_mean + test_std,\n",
    "                test_mean - test_std,\n",
    "                alpha = 0.15, color = 'green')\n",
    "\n",
    "plt.grid()\n",
    "plt.legend(loc = 'lower right')\n",
    "plt.xlabel('K Nearest Neighbors')\n",
    "plt.ylabel('Accuracy')\n",
    "plt.ylim([0.8, .95])\n",
    "plt.tight_layout()\n",
    "plt.show()"
   ]
  },
  {
   "cell_type": "markdown",
   "metadata": {},
   "source": [
    "The code above is the graph setup for the validation curve using matplotlib. Train data and test data are separated into 2 separate colors and marker types. Then, the \"fill-between\" function is used to connect data points, with a dotted connector for the validation accuracy. I limited the y scale in order to show all data points without including extra space."
   ]
  }
 ],
 "metadata": {
  "kernelspec": {
   "display_name": "Python 3",
   "language": "python",
   "name": "python3"
  },
  "language_info": {
   "codemirror_mode": {
    "name": "ipython",
    "version": 3
   },
   "file_extension": ".py",
   "mimetype": "text/x-python",
   "name": "python",
   "nbconvert_exporter": "python",
   "pygments_lexer": "ipython3",
   "version": "3.6.5"
  }
 },
 "nbformat": 4,
 "nbformat_minor": 2
}
